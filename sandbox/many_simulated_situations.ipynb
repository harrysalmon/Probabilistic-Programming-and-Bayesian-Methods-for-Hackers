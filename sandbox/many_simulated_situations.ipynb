{
 "cells": [
  {
   "cell_type": "code",
   "execution_count": 1,
   "metadata": {
    "collapsed": false
   },
   "outputs": [
    {
     "name": "stderr",
     "output_type": "stream",
     "text": [
      "/usr/lib/python2.7/dist-packages/matplotlib/font_manager.py:273: UserWarning: Matplotlib is building the font cache using fc-list. This may take a moment.\n",
      "  warnings.warn('Matplotlib is building the font cache using fc-list. This may take a moment.')\n"
     ]
    }
   ],
   "source": [
    "import pymc as pm\n",
    "import numpy as np\n",
    "%matplotlib inline\n",
    "from IPython.core.pylabtools import figsize\n",
    "from matplotlib import pyplot as plt\n",
    "import math\n",
    "import scipy.stats\n",
    "from statsmodels.stats import weightstats\n",
    "import matplotlib.mlab as mlab\n",
    "from pymc.Matplot import plot as mcplot"
   ]
  },
  {
   "cell_type": "code",
   "execution_count": 2,
   "metadata": {
    "collapsed": true
   },
   "outputs": [],
   "source": [
    "## transfer some data into a form we can work with\n",
    "class Sample:\n",
    "    def __init__(self, samples, mean):\n",
    "        self.samples = samples\n",
    "        self.mean = mean\n",
    "        self.successes = int(round(samples * mean))\n",
    "        self.failures = int(round(samples * (1-mean)))\n",
    "        self.observations = np.array([0]*self.failures + [1]*self.successes)\n",
    "        np.random.shuffle(self.observations)\n",
    "        \n",
    "    @classmethod\n",
    "    def from_success_failure(self, successes, failures):\n",
    "        self.samples = successes + failures\n",
    "        self.successes = successes\n",
    "        self.failures = failures\n",
    "        self.observations = np.array([0]*self.failures + [1]*self.successes)\n",
    "        np.random.shuffle(self.observations) # inplace\n",
    "        self.mean = np.mean(self.observations)\n",
    "        \n",
    "class BaysianSummary:\n",
    "    def __init__(self, trace):\n",
    "        self.trace = trace\n",
    "        self.data = trace[:]\n",
    "        self.posterior_mean = self.data.mean()\n",
    "        self.posterior_5th  = np.percentile(self.data, 5)\n",
    "        self.posterior_95th  = np.percentile(self.data, 95)\n",
    "        self.p_better_than = (self.data < 0).mean()\n",
    "        self.p_worse_than = (self.data > 0).mean()\n",
    "        \n",
    "class FrequentistSummary:\n",
    "    def __init__(self, delta, p):\n",
    "        self.delta = delta\n",
    "        self.p = p"
   ]
  },
  {
   "cell_type": "code",
   "execution_count": 12,
   "metadata": {
    "collapsed": false
   },
   "outputs": [
    {
     "name": "stdout",
     "output_type": "stream",
     "text": [
      " [-----------------100%-----------------] 20000 of 20000 complete in 16.1 sec"
     ]
    },
    {
     "data": {
      "text/plain": [
       "[<__main__.BaysianSummary instance at 0x7f1bacd5bc68>,\n",
       " <__main__.BaysianSummary instance at 0x7f1bacfa0ab8>,\n",
       " <__main__.BaysianSummary instance at 0x7f1bacf5e8c0>]"
      ]
     },
     "execution_count": 12,
     "metadata": {},
     "output_type": "execute_result"
    }
   ],
   "source": [
    "control_means = [0.1]\n",
    "n_samples = [100000]\n",
    "variant_means = [0.101, 0.103, 0.11]\n",
    "\n",
    "sample_pairs = [(Sample(muC, samples), Sample(muV, samples))\n",
    "                for muC in control_means\n",
    "                for muV in variant_means\n",
    "                for samples in n_samples]\n",
    "\n",
    "# control = Sample(10000, 0.1151)\n",
    "# caption_overlay = Sample(10000, 0.1182)\n",
    "# caption_larger_text = Sample(10000, 0.1161)\n",
    "\n",
    "outputs = [BaysianSummary(run_bayes(sample1, sample2)) for (sample1, sample2) in sample_pairs]\n",
    "\n",
    "outputs"
   ]
  },
  {
   "cell_type": "code",
   "execution_count": 4,
   "metadata": {
    "collapsed": false
   },
   "outputs": [],
   "source": [
    "# Set up the pymc model. Again assume Uniform priors for p_A and p_B.\n",
    "def run_bayes(sample1, sample2):\n",
    "\n",
    "    p_A = pm.Uniform(\"p_A\", 0, 1)\n",
    "    p_B = pm.Uniform(\"p_B\", 0, 1)\n",
    "\n",
    "\n",
    "    # Define the deterministic delta function. This is our unknown of interest.\n",
    "    @pm.deterministic\n",
    "    def delta(p_A=p_A, p_B=p_B):\n",
    "        return p_A - p_B\n",
    "\n",
    "    # Set of observations, in this case we have two observation datasets.\n",
    "    obs_A = pm.Bernoulli(\"obs_A\", p_A, value=control.observations, observed=True)\n",
    "    obs_B = pm.Bernoulli(\"obs_B\", p_B, value=caption_overlay.observations, observed=True)\n",
    "\n",
    "    model = pm.Model([p_A, p_B, delta, obs_A, obs_B])\n",
    "    map_ = pm.MAP(model)\n",
    "    map_.fit()\n",
    "    mcmc = pm.MCMC(model)\n",
    "    mcmc.sample(20000, 1000)\n",
    "    \n",
    "    return mcmc.trace(\"delta\")"
   ]
  },
  {
   "cell_type": "code",
   "execution_count": 5,
   "metadata": {
    "collapsed": false
   },
   "outputs": [
    {
     "name": "stdout",
     "output_type": "stream",
     "text": [
      " [-----------------100%-----------------] 20000 of 20000 complete in 52.6 sec"
     ]
    },
    {
     "name": "stderr",
     "output_type": "stream",
     "text": [
      "/usr/local/lib/python2.7/dist-packages/pymc/MCMC.py:81: UserWarning: Instantiating a Model object directly is deprecated. We recommend passing variables directly to the Model subclass.\n",
      "  warnings.warn(message)\n"
     ]
    }
   ],
   "source": [
    "figsize(12.5, 10)\n",
    "\n",
    "delta_samples = run_bayes(control, caption_overlay)\n",
    "summary = BaysianSummary(delta_samples)"
   ]
  },
  {
   "cell_type": "code",
   "execution_count": 6,
   "metadata": {
    "collapsed": false
   },
   "outputs": [
    {
     "data": {
      "text/plain": [
       "-0.0031104784810600705"
      ]
     },
     "execution_count": 6,
     "metadata": {},
     "output_type": "execute_result"
    }
   ],
   "source": [
    "summary.posterior_mean"
   ]
  },
  {
   "cell_type": "code",
   "execution_count": 7,
   "metadata": {
    "collapsed": false
   },
   "outputs": [
    {
     "name": "stdout",
     "output_type": "stream",
     "text": [
      "Plotting delta\n"
     ]
    },
    {
     "data": {
      "image/png": "[encoded data removed]",
      "text/plain": [
       "<matplotlib.figure.Figure at 0x7f1bafaaf190>"
      ]
     },
     "metadata": {},
     "output_type": "display_data"
    }
   ],
   "source": [
    "mcplot(summary.trace)"
   ]
  },
  {
   "cell_type": "code",
   "execution_count": 8,
   "metadata": {
    "collapsed": false
   },
   "outputs": [
    {
     "name": "stdout",
     "output_type": "stream",
     "text": [
      "Probability A is WORSE than B: 0.741\n",
      "Probability A is BETTER than B: 0.259\n"
     ]
    }
   ],
   "source": [
    "# Count the number of samples less than 0, i.e. the area under the curve\n",
    "# before 0, represent the probability that site A is worse than site B.\n",
    "print \"Probability A is WORSE than B: %.3f\" % \\\n",
    "    (summary.data < 0).mean()\n",
    "\n",
    "print \"Probability A is BETTER than B: %.3f\" % \\\n",
    "    (summary.data > 0).mean()"
   ]
  },
  {
   "cell_type": "code",
   "execution_count": 9,
   "metadata": {
    "collapsed": false
   },
   "outputs": [],
   "source": [
    "def frequentist_from_samples(sample1, sample2):\n",
    "    mu1 = sample1.observations.mean()\n",
    "    mu2 = sample2.observations.mean()\n",
    "    SE1 = mu1 * (1-mu1) / math.sqrt(len(sample1.observations))\n",
    "    SE2 = mu2 * (1-mu2) / math.sqrt(len(sample2.observations))\n",
    "    z = (mu1 - mu2) / (SE1**2 + SE2**2)**0.5\n",
    "    p = scipy.stats.norm.sf(abs(z))*2\n",
    "    delta = mu1 - mu2\n",
    "    return FrequentistSummary(delta, p)"
   ]
  },
  {
   "cell_type": "code",
   "execution_count": 10,
   "metadata": {
    "collapsed": false
   },
   "outputs": [
    {
     "data": {
      "text/plain": [
       "-0.0031000000000000055"
      ]
     },
     "execution_count": 10,
     "metadata": {},
     "output_type": "execute_result"
    }
   ],
   "source": [
    "frequentist_from_samples(control, caption_overlay).delta"
   ]
  },
  {
   "cell_type": "code",
   "execution_count": null,
   "metadata": {
    "collapsed": false
   },
   "outputs": [],
   "source": []
  }
 ],
 "metadata": {
  "kernelspec": {
   "display_name": "Python 2",
   "language": "python",
   "name": "python2"
  },
  "language_info": {
   "codemirror_mode": {
    "name": "ipython",
    "version": 2
   },
   "file_extension": ".py",
   "mimetype": "text/x-python",
   "name": "python",
   "nbconvert_exporter": "python",
   "pygments_lexer": "ipython2",
   "version": "2.7.12"
  }
 },
 "nbformat": 4,
 "nbformat_minor": 0
}
